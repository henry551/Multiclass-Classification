{
 "cells": [
  {
   "cell_type": "code",
   "execution_count": 1,
   "metadata": {
    "pycharm": {
     "is_executing": false
    }
   },
   "outputs": [],
   "source": [
    "# Make sure to have the packages numpy, scikit-learn, and Tensorflow\n",
    "\n",
    "# import numpy first\n",
    "import numpy as np"
   ]
  },
  {
   "cell_type": "code",
   "execution_count": 2,
   "metadata": {
    "pycharm": {
     "is_executing": false
    }
   },
   "outputs": [],
   "source": [
    "# Given y vector of labels, return matrix Y whose i-th row is the one-hot vector of label y_i \n",
    "# If eps is not 0, then need to compute the smoothed one-hot vectors instead\n",
    "# If k is 0, then need to infer its value instead\n",
    "def one_hot(y, k=0, eps=0):\n",
    "    Y = np.ones((y.shape[0],k))*eps/k\n",
    "    for i in range(y.shape[0]):\n",
    "        Y[i,y[i]] += 1-eps\n",
    "    return Y"
   ]
  },
  {
   "cell_type": "code",
   "execution_count": 3,
   "metadata": {
    "pycharm": {
     "is_executing": false
    }
   },
   "outputs": [],
   "source": [
    "class GenericLoss:\n",
    "    def __init__(self, name=\"\", dims = [], W0 = []):\n",
    "        self.name = name\n",
    "        assert dims != [] or W0 != [], 'Must set dims or W0'\n",
    "        if W0 == []:\n",
    "            self.W = np.zeros(dims)\n",
    "        else:\n",
    "            self.W = W0\n",
    "        self.k, self.d = self.W.shape\n",
    "    \n",
    "    def Set(self, W):\n",
    "        self.W = W\n",
    "    \n",
    "    def Get(self):\n",
    "        return self.W\n",
    "    \n",
    "    def Update(self, dW):\n",
    "        self.W += dW\n",
    "    \n",
    "    def RowNorms(self):\n",
    "        return np.linalg.norm(self.W, axis = 1)\n",
    "    \n",
    "    def Project(self, rad):\n",
    "        proj = self.RowNorms()/rad\n",
    "        proj[proj > 1] = 1\n",
    "        return np.reshape(proj, (proj.shape[0],1))*self.W\n",
    "    \n",
    "    def Predict(self, X):\n",
    "        return X @ self.W.T\n",
    "    \n",
    "    def PredictLabels(self, X):\n",
    "        return np.argmax(self.Predict(X), axis = 1)\n",
    "    \n",
    "    def Error(self, X, y):\n",
    "        return np.sum(self.PredictLabels(X) != y)\n",
    "        \n",
    "    def Loss(self, X, y):\n",
    "        pass\n",
    "    \n",
    "    def Gradient(self, X, y):\n",
    "        pass"
   ]
  },
  {
   "cell_type": "code",
   "execution_count": 4,
   "metadata": {
    "pycharm": {
     "is_executing": false
    }
   },
   "outputs": [],
   "source": [
    "class CrossEntropy(GenericLoss):\n",
    "    def __init__(self, name=\"\", dims = [], W0 = [], eps=1e-6):\n",
    "        super().__init__(name, dims, W0)\n",
    "        self.eps = eps\n",
    "    \n",
    "    def Gety (self, X, y):\n",
    "        z = self.Predict(X);\n",
    "        zMax = np.amax(z, axis = 1)\n",
    "        z -= np.reshape(zMax, (zMax.shape[0], 1))\n",
    "        tot = np.sum(np.exp(z), axis = 1)\n",
    "        yhat = np.exp(z)\n",
    "        yhat /= np.reshape(tot, (tot.shape[0], 1))\n",
    "        Y = one_hot(y, self.k, self.eps)\n",
    "        return yhat, Y\n",
    "        \n",
    "    def Loss(self, X, y):\n",
    "        yhat, Y = self.Gety (X, y)\n",
    "        #print(y.shape)\n",
    "        #y = np.reshape(y, (y.shape[0],1))\n",
    "        loss = np.sum(Y * np.log(Y / yhat)) / Y.shape[0]\n",
    "        return loss\n",
    "    \n",
    "    def Gradient(self, X, y):\n",
    "        yhat, Y = self.Gety (X, y)\n",
    "        grad = (yhat - Y).T @ X / Y.shape[0]\n",
    "        return grad\n",
    "\n",
    "class LogisticOvA(GenericLoss):\n",
    "    def Gety(self, y):\n",
    "        Y = one_hot(y, self.k, 0)\n",
    "        Y = 2*Y-1\n",
    "        return Y\n",
    "    \n",
    "    # compute the OvA loss as defined above.\n",
    "    def Loss(self, X, y):\n",
    "        ybar = self.Gety(y)\n",
    "        z = self.Predict(X)\n",
    "        sigmoid =  np.log(1+np.exp(-ybar*z))\n",
    "        loss = np.sum(sigmoid) / y.shape[0]\n",
    "        return loss\n",
    "        \n",
    "    def Gradient(self, X, y):\n",
    "        ybar = self.Gety(y)\n",
    "        z = self.Predict(X)\n",
    "        der = ybar / (1+np.exp(ybar*z))\n",
    "        grad = - der.T @ X / y.shape[0]\n",
    "        return grad"
   ]
  },
  {
   "cell_type": "code",
   "execution_count": 5,
   "metadata": {
    "pycharm": {
     "is_executing": false
    }
   },
   "outputs": [
    {
     "name": "stdout",
     "output_type": "stream",
     "text": [
      "CE Test Passed\n",
      "Logistic OvA Test Passed\n"
     ]
    }
   ],
   "source": [
    "def TestLoss(loss_tested):\n",
    "    n, d, k, tests = 100, 10, 7, 1000\n",
    "    test_loss = loss_tested(W0=[], dims=(k, d))\n",
    "    \n",
    "    for _ in range(tests):\n",
    "        X, W = np.random.randn(n, d), np.random.randn(k, d)\n",
    "        test_loss.Set(W)\n",
    "    \n",
    "        y, y_rand = test_loss.PredictLabels(X), np.random.randint(0, k, n)\n",
    "        loss1 = test_loss.Loss(X, y)\n",
    "        loss2 = test_loss.Loss(X, y_rand)\n",
    "        assert loss1 < loss2, \"Loss test failed (%f >= %f)\" % (loss1, loss2)\n",
    "    \n",
    "        grad1 = test_loss.Gradient(X, y)\n",
    "        norm_grad1 = np.linalg.norm(grad1)\n",
    "        norm_grad2 = np.linalg.norm(test_loss.Gradient(X,y_rand))\n",
    "        assert norm_grad1 < norm_grad2, \"Gradient norm test failed (%f >= %f)\" % (norm_grad1, norm_grad2)\n",
    "        \n",
    "        test_loss.Update(-0.01 * grad1)\n",
    "        norm_grad3 = np.linalg.norm(test_loss.Gradient(X,y))\n",
    "        assert norm_grad3 < norm_grad1, \"Gradient step test failed (%f >= %f)\" % (norm_grad3, norm_grad1)\n",
    "    \n",
    "    return True\n",
    "\n",
    "LossTested = CrossEntropy\n",
    "if TestLoss(LossTested): print('CE Test Passed')\n",
    "LossTested = LogisticOvA\n",
    "if TestLoss(LossTested): print('Logistic OvA Test Passed')"
   ]
  },
  {
   "cell_type": "markdown",
   "metadata": {},
   "source": [
    "Below are methods from previous assignments for data processing and training. No need to reimplement these."
   ]
  },
  {
   "cell_type": "code",
   "execution_count": 6,
   "metadata": {
    "pycharm": {
     "is_executing": false
    }
   },
   "outputs": [],
   "source": [
    "# Sample a mini-batch w/ or w/o replacement\n",
    "from numpy.random import randint\n",
    "from numpy.random import permutation\n",
    "class IndexSampler:\n",
    "    def __init__(self, d):\n",
    "        self.d = d\n",
    "        self.prm = None\n",
    "    \n",
    "    def sample_new_index(self, replace=0):\n",
    "        if replace:\n",
    "            return randint(self.d)\n",
    "        if self.prm is None:\n",
    "            self.prm = permutation(self.d)\n",
    "            self.head = 0\n",
    "        ind = self.prm[self.head]\n",
    "        self.head += 1\n",
    "        if self.head == self.d:\n",
    "            self.head = 0\n",
    "            self.prm = None\n",
    "        return ind"
   ]
  },
  {
   "cell_type": "code",
   "execution_count": 7,
   "metadata": {
    "pycharm": {
     "is_executing": false
    }
   },
   "outputs": [],
   "source": [
    "def learning_rate_schedule(eta0, epochs, mode):\n",
    "    base_t = 10.0\n",
    "    if mode == 'fixed_t':\n",
    "        return eta0 * np.ones(epochs)\n",
    "    if mode == 'sqrt_t':\n",
    "        return eta0 * np.ones(epochs) / (base_t + np.sqrt(np.arange(epochs)))\n",
    "    if mode == 'linear_t':\n",
    "        return eta0 * np.ones(epochs) / (base_t + np.arange(epochs))\n",
    "    print('invalid mode for learning rate schedule: %s' % mode)\n",
    "    return []"
   ]
  },
  {
   "cell_type": "code",
   "execution_count": 8,
   "metadata": {
    "pycharm": {
     "is_executing": false
    }
   },
   "outputs": [],
   "source": [
    "def SGD(X, y, Loss, params):\n",
    "    h = params\n",
    "    pstr, rad, replace = h['pstr'], h['rad'], h['replace']\n",
    "    eta0, epochs, bs, lrmode = h['eta0'], h['epochs'], h['batch_size'], h['lr_mode']\n",
    "    n, d = X.shape\n",
    "    nbs = int(n / bs)\n",
    "    k = max(y) + 1\n",
    "    ls = Loss(W0=[], dims=(k, d))\n",
    "    eta_t = learning_rate_schedule(eta0, epochs, lrmode)\n",
    "    losses = [ls.Loss(X, y)]\n",
    "    errors = [ls.Error(X, y)]\n",
    "    sampler = IndexSampler(nbs)\n",
    "    for e in range(1, epochs * nbs):\n",
    "        head = sampler.sample_new_index(replace) * bs\n",
    "        Xt, yt = X[head:head + bs], y[head:head + bs]\n",
    "        gw = ls.Gradient(Xt, yt)\n",
    "        ls.Update(-eta_t[e // nbs] * gw)\n",
    "        if rad > 0: ls.Project(rad)\n",
    "        if e % nbs == 0:\n",
    "            losses.append(ls.Loss(X, y))\n",
    "            errors.append(ls.Error(X, y))\n",
    "        if (e % (nbs * 10)) == 0:\n",
    "            print(pstr.format(e // nbs, losses[-1], errors[-1]))\n",
    "    return ls, losses, errors"
   ]
  },
  {
   "cell_type": "code",
   "execution_count": 9,
   "metadata": {
    "pycharm": {
     "is_executing": false
    }
   },
   "outputs": [
    {
     "name": "stdout",
     "output_type": "stream",
     "text": [
      "Downloading data from https://storage.googleapis.com/tensorflow/tf-keras-datasets/mnist.npz\n",
      "11493376/11490434 [==============================] - 2s 0us/step\n"
     ]
    }
   ],
   "source": [
    "# import matplotlib and get the mnist dataset from tensorflow.keras\n",
    "import matplotlib.pyplot as plt\n",
    "from tensorflow.keras.datasets import mnist as keras_mnist\n",
    "(X_train, y_train), (X_test, y_test) = keras_mnist.load_data()"
   ]
  },
  {
   "cell_type": "code",
   "execution_count": 10,
   "metadata": {
    "pycharm": {
     "is_executing": false
    }
   },
   "outputs": [],
   "source": [
    "# normalize the data by subtracting the mean and dividing by std\n",
    "def normalize(X, bias=0):\n",
    "    n, d = X.shape\n",
    "    m = np.mean(X, axis=1).reshape(n, 1) * np.ones((1, d))\n",
    "    s = np.std(X, axis=1).reshape(n, 1) * np.ones((1, d))\n",
    "    Xn = (X - m) / s\n",
    "    if bias != 0:\n",
    "        Xn = np.hstack((Xn, bias * np.ones((n, 1))))\n",
    "    return Xn\n",
    "\n",
    "# flatten the images into d-dimensional vectors for training\n",
    "def flatten_images(X):\n",
    "    s = X.shape\n",
    "    n = s[0]\n",
    "    d = np.prod(s[1:])\n",
    "    return X.reshape(n, d)\n",
    "\n",
    "Xtr = normalize(flatten_images(X_train), bias = 1)\n",
    "Xte = normalize(flatten_images(X_test), bias = 1)"
   ]
  },
  {
   "cell_type": "code",
   "execution_count": 11,
   "metadata": {
    "pycharm": {
     "is_executing": false
    }
   },
   "outputs": [
    {
     "name": "stdout",
     "output_type": "stream",
     "text": [
      "Epoch: 10  Loss: 0.285  Error:  4778\n",
      "Epoch: 20  Loss: 0.271  Error:  4557\n",
      "Epoch: 30  Loss: 0.263  Error:  4367\n",
      "Epoch: 40  Loss: 0.258  Error:  4274\n",
      "Epoch: 50  Loss: 0.256  Error:  4257\n",
      "Epoch: 60  Loss: 0.253  Error:  4193\n",
      "Epoch: 70  Loss: 0.251  Error:  4130\n",
      "Epoch: 80  Loss: 0.249  Error:  4088\n",
      "Epoch: 90  Loss: 0.247  Error:  4058\n",
      "Epoch: 100  Loss: 0.246  Error:  4044\n",
      "Epoch: 110  Loss: 0.245  Error:  4019\n",
      "Epoch: 120  Loss: 0.244  Error:  3990\n",
      "Epoch: 130  Loss: 0.243  Error:  3961\n",
      "Epoch: 140  Loss: 0.242  Error:  3981\n",
      "Epoch: 150  Loss: 0.241  Error:  3929\n",
      "Epoch: 160  Loss: 0.240  Error:  3948\n",
      "Epoch: 170  Loss: 0.239  Error:  3909\n",
      "Epoch: 180  Loss: 0.239  Error:  3939\n",
      "Epoch: 190  Loss: 0.238  Error:  3905\n",
      "Epoch: 200  Loss: 0.237  Error:  3875\n",
      "Epoch: 210  Loss: 0.237  Error:  3895\n",
      "Epoch: 220  Loss: 0.238  Error:  3952\n",
      "Epoch: 230  Loss: 0.236  Error:  3870\n",
      "Epoch: 240  Loss: 0.236  Error:  3899\n",
      "Epoch: 250  Loss: 0.235  Error:  3916\n",
      "Epoch: 260  Loss: 0.235  Error:  3859\n",
      "Epoch: 270  Loss: 0.234  Error:  3846\n",
      "Epoch: 280  Loss: 0.234  Error:  3846\n",
      "Epoch: 290  Loss: 0.233  Error:  3848\n",
      "Epoch: 300  Loss: 0.233  Error:  3841\n",
      "Epoch: 310  Loss: 0.233  Error:  3829\n",
      "Epoch: 320  Loss: 0.232  Error:  3836\n",
      "Epoch: 330  Loss: 0.232  Error:  3830\n",
      "Epoch: 340  Loss: 0.231  Error:  3808\n",
      "Epoch: 350  Loss: 0.231  Error:  3785\n",
      "Epoch: 360  Loss: 0.231  Error:  3818\n",
      "Epoch: 370  Loss: 0.231  Error:  3810\n",
      "Epoch: 380  Loss: 0.230  Error:  3780\n",
      "Epoch: 390  Loss: 0.230  Error:  3797\n",
      "Epoch: 400  Loss: 0.230  Error:  3773\n",
      "Epoch: 410  Loss: 0.230  Error:  3784\n",
      "Epoch: 420  Loss: 0.230  Error:  3772\n",
      "Epoch: 430  Loss: 0.229  Error:  3777\n",
      "Epoch: 440  Loss: 0.229  Error:  3772\n",
      "Epoch: 450  Loss: 0.229  Error:  3751\n",
      "Epoch: 460  Loss: 0.229  Error:  3750\n",
      "Epoch: 470  Loss: 0.229  Error:  3761\n",
      "Epoch: 480  Loss: 0.228  Error:  3749\n",
      "Epoch: 490  Loss: 0.228  Error:  3740\n"
     ]
    }
   ],
   "source": [
    "h = dict()\n",
    "h['pstr'] = 'Epoch: {0:2d}  Loss: {1:5.3f}  Error: {2:5d}'\n",
    "h['rad'] = 10.0\n",
    "h['replace'] = 0\n",
    "h['eta0'] = 1.0\n",
    "h['epochs'] = 500\n",
    "h['batch_size'] = 1000\n",
    "h['lr_mode'] = 'sqrt_t'\n",
    "\n",
    "lsCE, lossesCE, errorsCE = SGD(Xtr, y_train, CrossEntropy, h)"
   ]
  },
  {
   "cell_type": "code",
   "execution_count": 12,
   "metadata": {
    "pycharm": {
     "is_executing": false
    }
   },
   "outputs": [
    {
     "name": "stdout",
     "output_type": "stream",
     "text": [
      "Loss: 0.264 Error: 726\n",
      "Error Rate: 0.073\n"
     ]
    }
   ],
   "source": [
    "print(\"Loss: %.3f Error: %d\" % (lsCE.Loss(Xte,y_test), lsCE.Error(Xte,y_test)))\n",
    "print(\"Error Rate: %.3f\" % (lsCE.Error(Xte, y_test)/y_test.shape[0]))"
   ]
  },
  {
   "cell_type": "code",
   "execution_count": 13,
   "metadata": {
    "pycharm": {
     "is_executing": false
    }
   },
   "outputs": [
    {
     "data": {
      "image/png": "[encoded data removed]",
      "text/plain": [
       "<Figure size 432x288 with 1 Axes>"
      ]
     },
     "metadata": {
      "needs_background": "light"
     },
     "output_type": "display_data"
    },
    {
     "data": {
      "image/png": "[encoded data removed]",
      "text/plain": [
       "<Figure size 432x288 with 1 Axes>"
      ]
     },
     "metadata": {
      "needs_background": "light"
     },
     "output_type": "display_data"
    }
   ],
   "source": [
    "plt.figure(1)\n",
    "plt.plot(lossesCE)\n",
    "plt.xlabel('Epochs')\n",
    "plt.ylabel('Loss')\n",
    "plt.title('Loss vs Epochs for CE')\n",
    "plt.ylim(0.2, 0.8);\n",
    "\n",
    "plt.figure(2)\n",
    "plt.plot(errorsCE)\n",
    "plt.xlabel('Epochs')\n",
    "plt.ylabel('Errors')\n",
    "plt.title('Errors vs Epochs for CE')\n",
    "plt.ylim(3500, 6000);"
   ]
  },
  {
   "cell_type": "code",
   "execution_count": 14,
   "metadata": {
    "pycharm": {
     "is_executing": false
    }
   },
   "outputs": [],
   "source": [
    "C = np.zeros((10,10))\n",
    "predictions = lsCE.PredictLabels(Xte)\n",
    "for i in range(predictions.shape[0]):\n",
    "    C[y_test[i], predictions[i]] += 1\n",
    "k = max(y_test) + 1\n",
    "assert np.array_equal(np.argmax(C, axis=1), np.arange(k))"
   ]
  },
  {
   "cell_type": "code",
   "execution_count": 15,
   "metadata": {
    "pycharm": {
     "is_executing": false
    }
   },
   "outputs": [
    {
     "name": "stdout",
     "output_type": "stream",
     "text": [
      "Epoch: 10  Loss: 0.739  Error:  5479\n",
      "Epoch: 20  Loss: 0.710  Error:  5217\n",
      "Epoch: 30  Loss: 0.694  Error:  5105\n",
      "Epoch: 40  Loss: 0.683  Error:  4980\n",
      "Epoch: 50  Loss: 0.675  Error:  4891\n",
      "Epoch: 60  Loss: 0.668  Error:  4818\n",
      "Epoch: 70  Loss: 0.663  Error:  4790\n",
      "Epoch: 80  Loss: 0.659  Error:  4752\n",
      "Epoch: 90  Loss: 0.654  Error:  4721\n",
      "Epoch: 100  Loss: 0.650  Error:  4705\n",
      "Epoch: 110  Loss: 0.648  Error:  4707\n",
      "Epoch: 120  Loss: 0.644  Error:  4690\n",
      "Epoch: 130  Loss: 0.642  Error:  4656\n",
      "Epoch: 140  Loss: 0.640  Error:  4644\n",
      "Epoch: 150  Loss: 0.638  Error:  4598\n",
      "Epoch: 160  Loss: 0.635  Error:  4608\n",
      "Epoch: 170  Loss: 0.634  Error:  4590\n",
      "Epoch: 180  Loss: 0.632  Error:  4588\n",
      "Epoch: 190  Loss: 0.629  Error:  4541\n",
      "Epoch: 200  Loss: 0.628  Error:  4541\n",
      "Epoch: 210  Loss: 0.627  Error:  4533\n",
      "Epoch: 220  Loss: 0.625  Error:  4551\n",
      "Epoch: 230  Loss: 0.623  Error:  4528\n",
      "Epoch: 240  Loss: 0.623  Error:  4510\n",
      "Epoch: 250  Loss: 0.621  Error:  4481\n",
      "Epoch: 260  Loss: 0.620  Error:  4465\n",
      "Epoch: 270  Loss: 0.620  Error:  4506\n",
      "Epoch: 280  Loss: 0.618  Error:  4472\n",
      "Epoch: 290  Loss: 0.616  Error:  4460\n",
      "Epoch: 300  Loss: 0.616  Error:  4442\n",
      "Epoch: 310  Loss: 0.615  Error:  4465\n",
      "Epoch: 320  Loss: 0.614  Error:  4436\n",
      "Epoch: 330  Loss: 0.613  Error:  4470\n",
      "Epoch: 340  Loss: 0.612  Error:  4471\n",
      "Epoch: 350  Loss: 0.612  Error:  4427\n",
      "Epoch: 360  Loss: 0.610  Error:  4436\n",
      "Epoch: 370  Loss: 0.609  Error:  4413\n",
      "Epoch: 380  Loss: 0.610  Error:  4425\n",
      "Epoch: 390  Loss: 0.608  Error:  4416\n",
      "Epoch: 400  Loss: 0.607  Error:  4419\n",
      "Epoch: 410  Loss: 0.607  Error:  4421\n",
      "Epoch: 420  Loss: 0.605  Error:  4401\n",
      "Epoch: 430  Loss: 0.605  Error:  4393\n",
      "Epoch: 440  Loss: 0.605  Error:  4399\n",
      "Epoch: 450  Loss: 0.604  Error:  4397\n",
      "Epoch: 460  Loss: 0.605  Error:  4422\n",
      "Epoch: 470  Loss: 0.602  Error:  4375\n",
      "Epoch: 480  Loss: 0.603  Error:  4398\n",
      "Epoch: 490  Loss: 0.602  Error:  4373\n"
     ]
    }
   ],
   "source": [
    "lsOvA, lossesOvA, errorsOvA = SGD(Xtr, y_train, LogisticOvA, h)"
   ]
  },
  {
   "cell_type": "code",
   "execution_count": 16,
   "metadata": {
    "pycharm": {
     "is_executing": false
    }
   },
   "outputs": [
    {
     "name": "stdout",
     "output_type": "stream",
     "text": [
      "Loss: 0.630 Error: 795\n",
      "Error Rate: 0.080\n"
     ]
    }
   ],
   "source": [
    "print(\"Loss: %.3f Error: %d\" % (lsOvA.Loss(Xte,y_test), lsOvA.Error(Xte,y_test)))\n",
    "print(\"Error Rate: %.3f\" % (lsOvA.Error(Xte, y_test)/y_test.shape[0]))"
   ]
  },
  {
   "cell_type": "code",
   "execution_count": 17,
   "metadata": {
    "pycharm": {
     "is_executing": false
    }
   },
   "outputs": [
    {
     "data": {
      "image/png": "[encoded data removed]",
      "text/plain": [
       "<Figure size 432x288 with 1 Axes>"
      ]
     },
     "metadata": {
      "needs_background": "light"
     },
     "output_type": "display_data"
    },
    {
     "data": {
      "image/png": "[encoded data removed]",
      "text/plain": [
       "<Figure size 432x288 with 1 Axes>"
      ]
     },
     "metadata": {
      "needs_background": "light"
     },
     "output_type": "display_data"
    }
   ],
   "source": [
    "plt.figure(1)\n",
    "plt.plot(lossesOvA)\n",
    "plt.xlabel('Epochs')\n",
    "plt.ylabel('Loss')\n",
    "plt.title('Loss vs Epochs for OvA')\n",
    "plt.ylim(0.2, 0.8);\n",
    "\n",
    "plt.figure(2)\n",
    "plt.plot(errorsOvA)\n",
    "plt.xlabel('Epochs')\n",
    "plt.ylabel('Errors')\n",
    "plt.title('Errors vs Epochs for OvA')\n",
    "plt.ylim(3500, 6000);"
   ]
  },
  {
   "cell_type": "code",
   "execution_count": 18,
   "metadata": {
    "pycharm": {
     "is_executing": false
    }
   },
   "outputs": [],
   "source": [
    "C2 = np.zeros((10,10))\n",
    "predictions = lsOvA.PredictLabels(Xte)\n",
    "for i in range(predictions.shape[0]):\n",
    "    C2[y_test[i], predictions[i]] += 1\n",
    "k = max(y_test) + 1\n",
    "assert np.array_equal(np.argmax(C2, axis=1), np.arange(k))"
   ]
  },
  {
   "cell_type": "markdown",
   "metadata": {},
   "source": [
    "CrossEntropy yields better results than Logistic One vs All because it incorporates data from all classes to make a prediction, instead of running each seperately."
   ]
  },
  {
   "cell_type": "code",
   "execution_count": 29,
   "metadata": {
    "pycharm": {
     "is_executing": false
    }
   },
   "outputs": [],
   "source": [
    "from sklearn.datasets import fetch_20newsgroups\n",
    "from collections import Counter\n",
    "\n",
    "def get_20newsgroups_data():\n",
    "    newsgroups_train = fetch_20newsgroups(subset='train')\n",
    "    newsgroups_test  = fetch_20newsgroups(subset='test')\n",
    "    return newsgroups_train, newsgroups_test\n",
    "\n",
    "def construct_vocabulary(data, vs):\n",
    "    vocab = Counter()\n",
    "    for text in data:\n",
    "        for word in text.split(' '):\n",
    "            vocab[word.lower()] += 1\n",
    "    word2index = dict(vocab.most_common(vs))\n",
    "    i = 0\n",
    "    for k in word2index.keys():\n",
    "        word2index[k] = i\n",
    "        i += 1\n",
    "    return word2index\n",
    "\n",
    "def text_to_vec(data, vocab):\n",
    "    def norm_rows(M):\n",
    "        return np.sqrt(np.sum(M * M, axis=1, keepdims=True))\n",
    "    def project_rows(M, r):\n",
    "        return M * np.minimum(r / norm_rows(M), 1.0)\n",
    "    n = len(data)\n",
    "    d = len(vocab)\n",
    "    X = np.zeros((n, d))\n",
    "    i = 0\n",
    "    for text in data:\n",
    "        for word in text.split(' '):\n",
    "            if word.lower() in vocab:\n",
    "                X[i, vocab[word.lower()]] += 1.0\n",
    "        i += 1\n",
    "    # Convert to log-frequencies and normalize to have ||X[i,*]||=1\n",
    "    X = project_rows(np.log(X + 1.0), 1.0)\n",
    "    return X"
   ]
  },
  {
   "cell_type": "code",
   "execution_count": 30,
   "metadata": {
    "pycharm": {
     "is_executing": false
    }
   },
   "outputs": [],
   "source": [
    "vsize = 1000\n",
    "train, test = get_20newsgroups_data()\n",
    "vocab = construct_vocabulary(train.data, vsize)\n",
    "Xtr = text_to_vec(train.data, vocab)\n",
    "Xte = text_to_vec(test.data, vocab)\n",
    "y_train = train.target\n",
    "y_test = test.target"
   ]
  },
  {
   "cell_type": "code",
   "execution_count": 31,
   "metadata": {
    "pycharm": {
     "is_executing": false
    }
   },
   "outputs": [
    {
     "name": "stdout",
     "output_type": "stream",
     "text": [
      "Epoch: 10  Loss: 1.307  Error:  3622\n",
      "Epoch: 20  Loss: 1.054  Error:  2918\n",
      "Epoch: 30  Loss: 0.929  Error:  2599\n",
      "Epoch: 40  Loss: 0.849  Error:  2360\n",
      "Epoch: 50  Loss: 0.792  Error:  2208\n",
      "Epoch: 60  Loss: 0.748  Error:  2084\n",
      "Epoch: 70  Loss: 0.712  Error:  1978\n",
      "Epoch: 80  Loss: 0.682  Error:  1868\n",
      "Epoch: 90  Loss: 0.656  Error:  1779\n",
      "Epoch: 100  Loss: 0.634  Error:  1723\n",
      "Epoch: 110  Loss: 0.615  Error:  1656\n",
      "Epoch: 120  Loss: 0.598  Error:  1612\n",
      "Epoch: 130  Loss: 0.583  Error:  1569\n",
      "Epoch: 140  Loss: 0.569  Error:  1525\n",
      "Epoch: 150  Loss: 0.556  Error:  1469\n",
      "Epoch: 160  Loss: 0.544  Error:  1452\n",
      "Epoch: 170  Loss: 0.534  Error:  1408\n",
      "Epoch: 180  Loss: 0.524  Error:  1375\n",
      "Epoch: 190  Loss: 0.514  Error:  1345\n",
      "Epoch: 200  Loss: 0.506  Error:  1308\n",
      "Epoch: 210  Loss: 0.498  Error:  1286\n",
      "Epoch: 220  Loss: 0.490  Error:  1276\n",
      "Epoch: 230  Loss: 0.483  Error:  1244\n",
      "Epoch: 240  Loss: 0.476  Error:  1228\n",
      "Epoch: 250  Loss: 0.469  Error:  1172\n",
      "Epoch: 260  Loss: 0.463  Error:  1178\n",
      "Epoch: 270  Loss: 0.457  Error:  1159\n",
      "Epoch: 280  Loss: 0.452  Error:  1144\n",
      "Epoch: 290  Loss: 0.446  Error:  1120\n",
      "Epoch: 300  Loss: 0.441  Error:  1091\n",
      "Epoch: 310  Loss: 0.437  Error:  1082\n",
      "Epoch: 320  Loss: 0.432  Error:  1064\n",
      "Epoch: 330  Loss: 0.427  Error:  1053\n",
      "Epoch: 340  Loss: 0.423  Error:  1043\n",
      "Epoch: 350  Loss: 0.419  Error:  1015\n",
      "Epoch: 360  Loss: 0.415  Error:  1014\n",
      "Epoch: 370  Loss: 0.411  Error:   987\n",
      "Epoch: 380  Loss: 0.407  Error:   986\n",
      "Epoch: 390  Loss: 0.404  Error:   980\n",
      "Epoch: 400  Loss: 0.401  Error:   961\n",
      "Epoch: 410  Loss: 0.397  Error:   938\n",
      "Epoch: 420  Loss: 0.394  Error:   933\n",
      "Epoch: 430  Loss: 0.391  Error:   917\n",
      "Epoch: 440  Loss: 0.387  Error:   907\n",
      "Epoch: 450  Loss: 0.385  Error:   900\n",
      "Epoch: 460  Loss: 0.382  Error:   885\n",
      "Epoch: 470  Loss: 0.379  Error:   878\n",
      "Epoch: 480  Loss: 0.376  Error:   866\n",
      "Epoch: 490  Loss: 0.374  Error:   862\n"
     ]
    }
   ],
   "source": [
    "hNews = dict()\n",
    "hNews['pstr'] = 'Epoch: {0:2d}  Loss: {1:5.3f}  Error: {2:5d}'\n",
    "hNews['rad'] = 40.0\n",
    "hNews['replace'] = 0\n",
    "hNews['eta0'] = 1000.0\n",
    "hNews['epochs'] = 500\n",
    "hNews['batch_size'] = 1000\n",
    "hNews['lr_mode'] = 'sqrt_t'\n",
    "\n",
    "lsNewsCE, lossesNewsCE, errorsNewsCE = SGD(Xtr, y_train, CrossEntropy, hNews)"
   ]
  },
  {
   "cell_type": "code",
   "execution_count": 32,
   "metadata": {
    "pycharm": {
     "is_executing": false
    }
   },
   "outputs": [
    {
     "name": "stdout",
     "output_type": "stream",
     "text": [
      "Loss: 1.615 Error: 3344\n",
      "Error Rate: 0.444\n"
     ]
    }
   ],
   "source": [
    "print(\"Loss: %.3f Error: %d\" % (lsNewsCE.Loss(Xte,y_test), lsNewsCE.Error(Xte,y_test)))\n",
    "print(\"Error Rate: %.3f\" % (lsNewsCE.Error(Xte, y_test)/y_test.shape[0]))"
   ]
  },
  {
   "cell_type": "code",
   "execution_count": 33,
   "metadata": {
    "pycharm": {
     "is_executing": false
    }
   },
   "outputs": [
    {
     "data": {
      "image/png": "[encoded data removed]",
      "text/plain": [
       "<Figure size 432x288 with 1 Axes>"
      ]
     },
     "metadata": {
      "needs_background": "light"
     },
     "output_type": "display_data"
    },
    {
     "data": {
      "image/png": "[encoded data removed]",
      "text/plain": [
       "<Figure size 432x288 with 1 Axes>"
      ]
     },
     "metadata": {
      "needs_background": "light"
     },
     "output_type": "display_data"
    }
   ],
   "source": [
    "plt.figure(1)\n",
    "plt.plot(lossesNewsCE)\n",
    "plt.xlabel('Epochs')\n",
    "plt.ylabel('Loss')\n",
    "plt.title('Loss vs Epochs for CE')\n",
    "#plt.ylim(0.2, 0.8);\n",
    "\n",
    "plt.figure(2)\n",
    "plt.plot(errorsNewsCE)\n",
    "plt.xlabel('Epochs')\n",
    "plt.ylabel('Errors')\n",
    "plt.title('Errors vs Epochs for CE')\n",
    "#plt.ylim(3500, 6000);\n",
    "\n",
    "k = max(y_test) + 1\n",
    "k2 = max(y_train) + 1\n",
    "k = max(k,k2)\n",
    "C = np.zeros((k,k))\n",
    "predictions = lsNewsCE.PredictLabels(Xte)\n",
    "for i in range(predictions.shape[0]):\n",
    "    C[y_test[i], predictions[i]] += 1\n",
    "assert np.array_equal(np.argmax(C, axis=1), np.arange(k))"
   ]
  },
  {
   "cell_type": "code",
   "execution_count": 34,
   "metadata": {
    "pycharm": {
     "is_executing": false
    }
   },
   "outputs": [
    {
     "name": "stdout",
     "output_type": "stream",
     "text": [
      "Epoch: 10  Loss: 2.254  Error:  3705\n",
      "Epoch: 20  Loss: 1.930  Error:  3041\n",
      "Epoch: 30  Loss: 1.764  Error:  2719\n",
      "Epoch: 40  Loss: 1.653  Error:  2512\n",
      "Epoch: 50  Loss: 1.575  Error:  2350\n",
      "Epoch: 60  Loss: 1.513  Error:  2214\n",
      "Epoch: 70  Loss: 1.464  Error:  2133\n",
      "Epoch: 80  Loss: 1.421  Error:  2065\n",
      "Epoch: 90  Loss: 1.385  Error:  1988\n",
      "Epoch: 100  Loss: 1.354  Error:  1947\n",
      "Epoch: 110  Loss: 1.327  Error:  1914\n",
      "Epoch: 120  Loss: 1.302  Error:  1858\n",
      "Epoch: 130  Loss: 1.280  Error:  1823\n",
      "Epoch: 140  Loss: 1.260  Error:  1769\n",
      "Epoch: 150  Loss: 1.242  Error:  1735\n",
      "Epoch: 160  Loss: 1.225  Error:  1697\n",
      "Epoch: 170  Loss: 1.209  Error:  1683\n",
      "Epoch: 180  Loss: 1.195  Error:  1638\n",
      "Epoch: 190  Loss: 1.182  Error:  1608\n",
      "Epoch: 200  Loss: 1.169  Error:  1581\n",
      "Epoch: 210  Loss: 1.157  Error:  1563\n",
      "Epoch: 220  Loss: 1.147  Error:  1562\n",
      "Epoch: 230  Loss: 1.135  Error:  1520\n",
      "Epoch: 240  Loss: 1.126  Error:  1521\n",
      "Epoch: 250  Loss: 1.116  Error:  1490\n",
      "Epoch: 260  Loss: 1.107  Error:  1483\n",
      "Epoch: 270  Loss: 1.099  Error:  1463\n",
      "Epoch: 280  Loss: 1.091  Error:  1456\n",
      "Epoch: 290  Loss: 1.083  Error:  1447\n",
      "Epoch: 300  Loss: 1.076  Error:  1429\n",
      "Epoch: 310  Loss: 1.069  Error:  1427\n",
      "Epoch: 320  Loss: 1.062  Error:  1394\n",
      "Epoch: 330  Loss: 1.055  Error:  1383\n",
      "Epoch: 340  Loss: 1.049  Error:  1357\n",
      "Epoch: 350  Loss: 1.043  Error:  1364\n",
      "Epoch: 360  Loss: 1.037  Error:  1359\n",
      "Epoch: 370  Loss: 1.032  Error:  1358\n",
      "Epoch: 380  Loss: 1.026  Error:  1335\n",
      "Epoch: 390  Loss: 1.021  Error:  1325\n",
      "Epoch: 400  Loss: 1.016  Error:  1315\n",
      "Epoch: 410  Loss: 1.011  Error:  1302\n",
      "Epoch: 420  Loss: 1.006  Error:  1306\n",
      "Epoch: 430  Loss: 1.001  Error:  1279\n",
      "Epoch: 440  Loss: 0.997  Error:  1292\n",
      "Epoch: 450  Loss: 0.992  Error:  1291\n",
      "Epoch: 460  Loss: 0.988  Error:  1268\n",
      "Epoch: 470  Loss: 0.984  Error:  1260\n",
      "Epoch: 480  Loss: 0.980  Error:  1266\n",
      "Epoch: 490  Loss: 0.976  Error:  1251\n"
     ]
    }
   ],
   "source": [
    "lsNewsOvA, lossesNewsOvA, errorsNewsOvA = SGD(Xtr, y_train, LogisticOvA, hNews)"
   ]
  },
  {
   "cell_type": "code",
   "execution_count": 35,
   "metadata": {
    "pycharm": {
     "is_executing": false
    }
   },
   "outputs": [
    {
     "name": "stdout",
     "output_type": "stream",
     "text": [
      "Loss: 2.514 Error: 3278\n",
      "Error Rate: 0.435\n"
     ]
    }
   ],
   "source": [
    "print(\"Loss: %.3f Error: %d\" % (lsNewsOvA.Loss(Xte,y_test), lsNewsOvA.Error(Xte,y_test)))\n",
    "print(\"Error Rate: %.3f\" % (lsNewsOvA.Error(Xte, y_test)/y_test.shape[0]))"
   ]
  },
  {
   "cell_type": "code",
   "execution_count": 36,
   "metadata": {
    "pycharm": {
     "is_executing": false
    }
   },
   "outputs": [
    {
     "data": {
      "image/png": "[encoded data removed]",
      "text/plain": [
       "<Figure size 432x288 with 1 Axes>"
      ]
     },
     "metadata": {
      "needs_background": "light"
     },
     "output_type": "display_data"
    },
    {
     "data": {
      "image/png": "[encoded data removed]",
      "text/plain": [
       "<Figure size 432x288 with 1 Axes>"
      ]
     },
     "metadata": {
      "needs_background": "light"
     },
     "output_type": "display_data"
    }
   ],
   "source": [
    "plt.figure(1)\n",
    "plt.plot(lossesNewsOvA)\n",
    "plt.xlabel('Epochs')\n",
    "plt.ylabel('Loss')\n",
    "plt.title('Loss vs Epochs for OvA')\n",
    "plt.ylim(0, 3);\n",
    "\n",
    "plt.figure(2)\n",
    "plt.plot(errorsNewsOvA)\n",
    "plt.xlabel('Epochs')\n",
    "plt.ylabel('Errors')\n",
    "plt.title('Errors vs Epochs for OvA')\n",
    "#plt.ylim(3500, 6000);\n",
    "\n",
    "k = max(y_test) + 1\n",
    "k2 = max(y_train) + 1\n",
    "k = max(k,k2)\n",
    "C = np.zeros((k,k))\n",
    "predictions = lsNewsOvA.PredictLabels(Xte)\n",
    "for i in range(predictions.shape[0]):\n",
    "    C[y_test[i], predictions[i]] += 1\n",
    "assert np.array_equal(np.argmax(C, axis=1), np.arange(k))"
   ]
  }
 ],
 "metadata": {
  "kernelspec": {
   "display_name": "Python 3",
   "language": "python",
   "name": "python3"
  },
  "language_info": {
   "codemirror_mode": {
    "name": "ipython",
    "version": 3
   },
   "file_extension": ".py",
   "mimetype": "text/x-python",
   "name": "python",
   "nbconvert_exporter": "python",
   "pygments_lexer": "ipython3",
   "version": "3.7.9"
  }
 },
 "nbformat": 4,
 "nbformat_minor": 4
}
